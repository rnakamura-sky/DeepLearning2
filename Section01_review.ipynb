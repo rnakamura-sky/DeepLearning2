{
 "cells": [
  {
   "cell_type": "code",
   "execution_count": 1,
   "id": "functional-flash",
   "metadata": {},
   "outputs": [],
   "source": [
    "import numpy as np"
   ]
  },
  {
   "cell_type": "markdown",
   "id": "every-storm",
   "metadata": {},
   "source": [
    "## ベクトルと行列"
   ]
  },
  {
   "cell_type": "code",
   "execution_count": 2,
   "id": "intelligent-washer",
   "metadata": {},
   "outputs": [
    {
     "name": "stdout",
     "output_type": "stream",
     "text": [
      "<class 'numpy.ndarray'>\n",
      "(3,)\n",
      "1\n"
     ]
    }
   ],
   "source": [
    "x = np.array([1, 2, 3])\n",
    "print(x.__class__)\n",
    "print(x.shape)\n",
    "print(x.ndim)"
   ]
  },
  {
   "cell_type": "code",
   "execution_count": 3,
   "id": "animal-variation",
   "metadata": {},
   "outputs": [
    {
     "name": "stdout",
     "output_type": "stream",
     "text": [
      "(2, 3)\n",
      "2\n"
     ]
    }
   ],
   "source": [
    "W = np.array([[1, 2, 3,], [4, 5, 6]])\n",
    "print(W.shape)\n",
    "print(W.ndim)"
   ]
  },
  {
   "cell_type": "markdown",
   "id": "preliminary-retrieval",
   "metadata": {},
   "source": [
    "## 行列の要素ごとの演算"
   ]
  },
  {
   "cell_type": "code",
   "execution_count": 5,
   "id": "seeing-consciousness",
   "metadata": {},
   "outputs": [
    {
     "name": "stdout",
     "output_type": "stream",
     "text": [
      "[[ 1  3  5]\n",
      " [ 7  9 11]]\n",
      "[[ 0  2  6]\n",
      " [12 20 30]]\n"
     ]
    }
   ],
   "source": [
    "W = np.array([[1, 2, 3,], [4, 5, 6,]])\n",
    "X = np.array([[0, 1, 2,], [3, 4, 5,]])\n",
    "\n",
    "print(W + X)\n",
    "print(W * X)"
   ]
  },
  {
   "cell_type": "markdown",
   "id": "loose-response",
   "metadata": {},
   "source": [
    "## ブロードキャスト"
   ]
  },
  {
   "cell_type": "code",
   "execution_count": 6,
   "id": "talented-serial",
   "metadata": {},
   "outputs": [
    {
     "name": "stdout",
     "output_type": "stream",
     "text": [
      "[[ 3  6]\n",
      " [ 9 12]]\n"
     ]
    }
   ],
   "source": [
    "A = np.array([[1, 2,], [3, 4]])\n",
    "print(A * 3)"
   ]
  },
  {
   "cell_type": "code",
   "execution_count": 7,
   "id": "bulgarian-slovakia",
   "metadata": {},
   "outputs": [
    {
     "name": "stdout",
     "output_type": "stream",
     "text": [
      "[[10 40]\n",
      " [30 80]]\n"
     ]
    }
   ],
   "source": [
    "A = np.array([[1, 2,], [3, 4,]])\n",
    "b = np.array([10, 20])\n",
    "print(A * b)"
   ]
  },
  {
   "cell_type": "markdown",
   "id": "noble-serial",
   "metadata": {},
   "source": [
    "## ベクトルの内積と行列の積"
   ]
  },
  {
   "cell_type": "code",
   "execution_count": 8,
   "id": "blocked-operations",
   "metadata": {},
   "outputs": [
    {
     "data": {
      "text/plain": [
       "32"
      ]
     },
     "execution_count": 8,
     "metadata": {},
     "output_type": "execute_result"
    }
   ],
   "source": [
    "a = np.array([1, 2, 3])\n",
    "b = np.array([4, 5, 6])\n",
    "np.dot(a, b)"
   ]
  },
  {
   "cell_type": "code",
   "execution_count": 9,
   "id": "charming-brave",
   "metadata": {},
   "outputs": [
    {
     "data": {
      "text/plain": [
       "array([[19, 22],\n",
       "       [43, 50]])"
      ]
     },
     "execution_count": 9,
     "metadata": {},
     "output_type": "execute_result"
    }
   ],
   "source": [
    "A = np.array([[1, 2,], [3, 4,]])\n",
    "B = np.array([[5, 6,], [7, 8,]])\n",
    "np.dot(A, B)"
   ]
  },
  {
   "cell_type": "markdown",
   "id": "graduate-pioneer",
   "metadata": {},
   "source": []
  },
  {
   "cell_type": "code",
   "execution_count": 10,
   "id": "corrected-relevance",
   "metadata": {},
   "outputs": [
    {
     "name": "stdout",
     "output_type": "stream",
     "text": [
      "[[ 0.49862223  0.80737152  1.5466629   0.02607197]\n",
      " [ 0.58070027  0.8551781  -0.4493182  -1.52873169]\n",
      " [-1.79289764 -1.22629194  1.08980994 -2.57356028]\n",
      " [ 0.92001565  1.16977274  0.70033481 -0.25773441]\n",
      " [ 0.85831987  1.11684141  0.83449052 -0.20779237]\n",
      " [-1.99135603 -1.4131451   0.18804627 -3.50476027]\n",
      " [-0.39621358  0.00428491  0.64939312 -1.57776646]\n",
      " [-2.51344481 -1.85714436  1.63856289 -2.82397619]\n",
      " [-0.73185036 -0.27973087  1.69597869 -1.04668193]\n",
      " [-1.70442285 -1.16033337  0.0978437  -3.29995938]]\n"
     ]
    }
   ],
   "source": [
    "W1 = np.random.randn(2, 4)\n",
    "b1 = np.random.randn(4)\n",
    "x = np.random.randn(10, 2)\n",
    "h = np.dot(x, W1) + b1\n",
    "print(h)\n"
   ]
  },
  {
   "cell_type": "code",
   "execution_count": null,
   "id": "welsh-hughes",
   "metadata": {},
   "outputs": [],
   "source": []
  }
 ],
 "metadata": {
  "kernelspec": {
   "display_name": "Python 3",
   "language": "python",
   "name": "python3"
  },
  "language_info": {
   "codemirror_mode": {
    "name": "ipython",
    "version": 3
   },
   "file_extension": ".py",
   "mimetype": "text/x-python",
   "name": "python",
   "nbconvert_exporter": "python",
   "pygments_lexer": "ipython3",
   "version": "3.8.5"
  }
 },
 "nbformat": 4,
 "nbformat_minor": 5
}
