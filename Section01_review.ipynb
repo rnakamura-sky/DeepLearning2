{
 "cells": [
  {
   "cell_type": "code",
   "execution_count": 1,
   "id": "functional-flash",
   "metadata": {},
   "outputs": [],
   "source": [
    "import numpy as np"
   ]
  },
  {
   "cell_type": "markdown",
   "id": "every-storm",
   "metadata": {},
   "source": [
    "## ベクトルと行列"
   ]
  },
  {
   "cell_type": "code",
   "execution_count": 2,
   "id": "intelligent-washer",
   "metadata": {},
   "outputs": [
    {
     "name": "stdout",
     "output_type": "stream",
     "text": [
      "<class 'numpy.ndarray'>\n",
      "(3,)\n",
      "1\n"
     ]
    }
   ],
   "source": [
    "x = np.array([1, 2, 3])\n",
    "print(x.__class__)\n",
    "print(x.shape)\n",
    "print(x.ndim)"
   ]
  },
  {
   "cell_type": "code",
   "execution_count": 3,
   "id": "animal-variation",
   "metadata": {},
   "outputs": [
    {
     "name": "stdout",
     "output_type": "stream",
     "text": [
      "(2, 3)\n",
      "2\n"
     ]
    }
   ],
   "source": [
    "W = np.array([[1, 2, 3,], [4, 5, 6]])\n",
    "print(W.shape)\n",
    "print(W.ndim)"
   ]
  },
  {
   "cell_type": "markdown",
   "id": "preliminary-retrieval",
   "metadata": {},
   "source": [
    "## 行列の要素ごとの演算"
   ]
  },
  {
   "cell_type": "code",
   "execution_count": 4,
   "id": "seeing-consciousness",
   "metadata": {},
   "outputs": [
    {
     "name": "stdout",
     "output_type": "stream",
     "text": [
      "[[ 1  3  5]\n",
      " [ 7  9 11]]\n",
      "[[ 0  2  6]\n",
      " [12 20 30]]\n"
     ]
    }
   ],
   "source": [
    "W = np.array([[1, 2, 3,], [4, 5, 6,]])\n",
    "X = np.array([[0, 1, 2,], [3, 4, 5,]])\n",
    "\n",
    "print(W + X)\n",
    "print(W * X)"
   ]
  },
  {
   "cell_type": "markdown",
   "id": "loose-response",
   "metadata": {},
   "source": [
    "## ブロードキャスト"
   ]
  },
  {
   "cell_type": "code",
   "execution_count": 5,
   "id": "talented-serial",
   "metadata": {},
   "outputs": [
    {
     "name": "stdout",
     "output_type": "stream",
     "text": [
      "[[ 3  6]\n",
      " [ 9 12]]\n"
     ]
    }
   ],
   "source": [
    "A = np.array([[1, 2,], [3, 4]])\n",
    "print(A * 3)"
   ]
  },
  {
   "cell_type": "code",
   "execution_count": 6,
   "id": "bulgarian-slovakia",
   "metadata": {},
   "outputs": [
    {
     "name": "stdout",
     "output_type": "stream",
     "text": [
      "[[10 40]\n",
      " [30 80]]\n"
     ]
    }
   ],
   "source": [
    "A = np.array([[1, 2,], [3, 4,]])\n",
    "b = np.array([10, 20])\n",
    "print(A * b)"
   ]
  },
  {
   "cell_type": "markdown",
   "id": "noble-serial",
   "metadata": {},
   "source": [
    "## ベクトルの内積と行列の積"
   ]
  },
  {
   "cell_type": "code",
   "execution_count": 7,
   "id": "blocked-operations",
   "metadata": {},
   "outputs": [
    {
     "data": {
      "text/plain": [
       "32"
      ]
     },
     "execution_count": 7,
     "metadata": {},
     "output_type": "execute_result"
    }
   ],
   "source": [
    "a = np.array([1, 2, 3])\n",
    "b = np.array([4, 5, 6])\n",
    "np.dot(a, b)"
   ]
  },
  {
   "cell_type": "code",
   "execution_count": 8,
   "id": "charming-brave",
   "metadata": {},
   "outputs": [
    {
     "data": {
      "text/plain": [
       "array([[19, 22],\n",
       "       [43, 50]])"
      ]
     },
     "execution_count": 8,
     "metadata": {},
     "output_type": "execute_result"
    }
   ],
   "source": [
    "A = np.array([[1, 2,], [3, 4,]])\n",
    "B = np.array([[5, 6,], [7, 8,]])\n",
    "np.dot(A, B)"
   ]
  },
  {
   "cell_type": "markdown",
   "id": "graduate-pioneer",
   "metadata": {},
   "source": []
  },
  {
   "cell_type": "code",
   "execution_count": 10,
   "id": "corrected-relevance",
   "metadata": {},
   "outputs": [
    {
     "name": "stdout",
     "output_type": "stream",
     "text": [
      "[[-0.7643658  -0.21055573 -0.48540319  2.03584999]\n",
      " [ 3.33746739 -1.95299487  1.37184783  1.70247058]\n",
      " [-1.3894654   1.05249362 -0.6219204   1.8163495 ]\n",
      " [ 1.85236299 -2.27734326  0.55910774  2.0820179 ]\n",
      " [ 1.9348095  -1.88851457  0.65869561  1.96046143]\n",
      " [ 1.45504783  0.36797619  0.74297509  1.44321508]\n",
      " [-2.04594329  0.18018407 -1.08825452  2.18165221]\n",
      " [-0.11355597 -0.42294761 -0.18131511  1.96559349]\n",
      " [-1.18263903 -0.21438242 -0.7014519   2.11903037]\n",
      " [ 1.39384651 -2.0992048   0.34905433  2.1237925 ]]\n"
     ]
    }
   ],
   "source": [
    "W1 = np.random.randn(2, 4)\n",
    "b1 = np.random.randn(4)\n",
    "x = np.random.randn(10, 2)\n",
    "h = np.dot(x, W1) + b1\n",
    "print(h)\n"
   ]
  },
  {
   "cell_type": "code",
   "execution_count": 11,
   "id": "welsh-hughes",
   "metadata": {},
   "outputs": [],
   "source": [
    "def sigmoid(x):\n",
    "    return 1 / (1 + np.exp(-x))"
   ]
  },
  {
   "cell_type": "code",
   "execution_count": 12,
   "id": "private-valuation",
   "metadata": {},
   "outputs": [
    {
     "data": {
      "text/plain": [
       "array([[0.31769916, 0.44755468, 0.38097706, 0.88451001],\n",
       "       [0.96569203, 0.12422717, 0.79767853, 0.84585713],\n",
       "       [0.19949312, 0.74125346, 0.34934481, 0.86012752],\n",
       "       [0.86440431, 0.09301685, 0.63624606, 0.88914309],\n",
       "       [0.8737808 , 0.13141393, 0.65896732, 0.87658288],\n",
       "       [0.81077408, 0.59096987, 0.67764608, 0.80895203],\n",
       "       [0.11446293, 0.54492454, 0.25194711, 0.89858973],\n",
       "       [0.47164147, 0.39581163, 0.454795  , 0.87713702],\n",
       "       [0.23457802, 0.44660873, 0.3314904 , 0.89273912],\n",
       "       [0.80120561, 0.10917413, 0.58638824, 0.89319427]])"
      ]
     },
     "execution_count": 12,
     "metadata": {},
     "output_type": "execute_result"
    }
   ],
   "source": [
    "a = sigmoid(h)\n",
    "a"
   ]
  },
  {
   "cell_type": "code",
   "execution_count": 15,
   "id": "dominican-elite",
   "metadata": {},
   "outputs": [
    {
     "name": "stdout",
     "output_type": "stream",
     "text": [
      "[[ 1.5139806  -0.30518016 -2.43430096]\n",
      " [ 0.64250845 -0.78898062 -1.94363282]\n",
      " [ 1.63798663 -0.26034762 -2.41880324]\n",
      " [ 0.58812129 -0.74040569 -2.11378545]\n",
      " [ 1.95280932 -0.09176985 -2.43300401]\n",
      " [ 0.95172251 -0.48175151 -2.27594623]\n",
      " [ 1.13107675 -0.4380497  -2.14982999]\n",
      " [ 0.52269061 -0.61898075 -2.51412039]\n",
      " [ 1.36795745 -0.40561196 -2.46825765]\n",
      " [ 1.63222973 -0.2544772  -2.47087955]]\n"
     ]
    }
   ],
   "source": [
    "x = np.random.randn(10, 2)\n",
    "W1 = np.random.randn(2, 4)\n",
    "b1 = np.random.randn(4)\n",
    "W2 = np.random.randn(4, 3)\n",
    "b2 = np.random.randn(3)\n",
    "\n",
    "h = np.dot(x, W1) + b1\n",
    "a = sigmoid(h)\n",
    "s = np.dot(a, W2) + b2\n",
    "print(s)"
   ]
  },
  {
   "cell_type": "code",
   "execution_count": null,
   "id": "fancy-burst",
   "metadata": {},
   "outputs": [],
   "source": []
  }
 ],
 "metadata": {
  "kernelspec": {
   "display_name": "Python 3",
   "language": "python",
   "name": "python3"
  },
  "language_info": {
   "codemirror_mode": {
    "name": "ipython",
    "version": 3
   },
   "file_extension": ".py",
   "mimetype": "text/x-python",
   "name": "python",
   "nbconvert_exporter": "python",
   "pygments_lexer": "ipython3",
   "version": "3.8.5"
  }
 },
 "nbformat": 4,
 "nbformat_minor": 5
}
